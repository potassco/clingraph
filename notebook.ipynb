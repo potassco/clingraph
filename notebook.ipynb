{
 "cells": [
  {
   "cell_type": "markdown",
   "id": "1519d1aa-c9e7-4320-927a-9a207eb4c9f2",
   "metadata": {},
   "source": [
    "# Clingraph package quick start with Jupyter\n",
    "\n",
    "We present in this notebook the basic functionalities of clingraph used as a package.\n",
    "\n",
    "- Try it yourself! Launch this notebook in Binder [![Binder](https://camo.githubusercontent.com/341e1df8d8fb38ce41d9c5987436b754534d52f17b7e10b070a4479bdd548867/68747470733a2f2f676b652e6d7962696e6465722e6f72672f7374617469632f696d616765732f62616467655f6c6f676f2e7376673f763d3131373739336162373635323430343665663434653264326435616632323063)](https://mybinder.org/v2/gh/potassco/clingraph/master?labpath=notebook.ipynb)\n",
    "\n",
    "- We suggest that the user first gets familiarized with the accepted [syntax](https://clingraph.readthedocs.io/en/latest/clingraph/syntax.html).\n",
    "\n",
    "- The details on the package options are in [api documentation](https://clingraph.readthedocs.io/en/latest/clingraph/api.html#clingraph).\n",
    "\n",
    "\n",
    "\n",
    "- For the command line usage see our [command line documentation](https://clingraph.readthedocs.io/en/latest/clingraph/console.html#). \n",
    "- Our [examples folder](https://github.com/potassco/clingraph/tree/master/examples) contains all the range of functionalities in different applications (*Each subfolder contains a README that explains how to run it*). "
   ]
  },
  {
   "cell_type": "markdown",
   "id": "bc8b1446-2620-47d9-8361-975d5f866e10",
   "metadata": {},
   "source": [
    "## Python package functionality"
   ]
  },
  {
   "cell_type": "markdown",
   "id": "fdfe5e75-f648-4de7-a6fc-43d08def0cb6",
   "metadata": {},
   "source": [
    "### Load facts\n",
    "\n",
    "We use the `Factbase` class to gather all the facts defining the graphs"
   ]
  },
  {
   "cell_type": "code",
   "execution_count": 1,
   "id": "42cb8691-2b1f-4856-97a8-cb7d582acebf",
   "metadata": {},
   "outputs": [],
   "source": [
    "from clingraph.orm import Factbase"
   ]
  },
  {
   "cell_type": "markdown",
   "id": "a081a67b-8f16-4a32-a5c5-88c011d5721b",
   "metadata": {
    "tags": []
   },
   "source": [
    "#### Create a factbase from string\n",
    "\n",
    "Loads a string of facts"
   ]
  },
  {
   "cell_type": "code",
   "execution_count": 2,
   "id": "5a1491aa-e46f-4f45-8ce9-9d8816211ae2",
   "metadata": {},
   "outputs": [],
   "source": [
    "fb = Factbase()\n",
    "fb.add_fact_string('''\n",
    "node(oscar). \n",
    "node(andres). \n",
    "edge((oscar,andres)). \n",
    "attr(node,andres,label,\"Andres\").\n",
    "attr(node,oscar,label,\"Oscar\").\n",
    "attr(edge,(oscar,andres),label,\"friends\").''')"
   ]
  },
  {
   "cell_type": "markdown",
   "id": "78aa6720-d8ef-4ad2-8736-5253f42faad2",
   "metadata": {},
   "source": [
    "Show the facts after preprocessing"
   ]
  },
  {
   "cell_type": "code",
   "execution_count": 3,
   "id": "400505b7-0858-4aaa-85b6-3af69525097b",
   "metadata": {},
   "outputs": [
    {
     "name": "stdout",
     "output_type": "stream",
     "text": [
      "node(oscar,default).\n",
      "node(andres,default).\n",
      "attr(edge,(oscar,andres),(label,-1),\"friends\").\n",
      "attr(node,andres,(label,-1),\"Andres\").\n",
      "attr(node,oscar,(label,-1),\"Oscar\").\n",
      "edge((oscar,andres),default).\n",
      "graph(default).\n",
      "\n"
     ]
    }
   ],
   "source": [
    "print(fb)"
   ]
  },
  {
   "cell_type": "markdown",
   "id": "e82060a2-72c2-4bb2-b633-3f439a7315c8",
   "metadata": {},
   "source": [
    "#### Create a Factbase from file"
   ]
  },
  {
   "cell_type": "markdown",
   "id": "7f53fb3c-e687-4a70-a303-57f77f2b5527",
   "metadata": {},
   "source": [
    "The file contents representing two different graphs."
   ]
  },
  {
   "cell_type": "code",
   "execution_count": 4,
   "id": "694ca63a-40f3-4623-b6a7-e07ddae2491e",
   "metadata": {},
   "outputs": [
    {
     "name": "stdout",
     "output_type": "stream",
     "text": [
      "    graph(toms_family).\n",
      "    graph(bills_family).\n",
      "\n",
      "    node(tom, toms_family).\n",
      "    node(max, toms_family).\n",
      "    edge((tom, max), toms_family).\n",
      "\n",
      "    node(bill, bills_family).\n",
      "    node(jen, bills_family).\n",
      "    edge((bill, jen), bills_family).\n"
     ]
    }
   ],
   "source": [
    "!cat examples/doc/example2/example2.lp"
   ]
  },
  {
   "cell_type": "markdown",
   "id": "55c05b59-2edf-4edb-852c-bfbb899b7475",
   "metadata": {},
   "source": [
    "##### Load the facts in the file"
   ]
  },
  {
   "cell_type": "code",
   "execution_count": 5,
   "id": "1c647294-5ddb-4708-80dc-8b664acb245d",
   "metadata": {},
   "outputs": [],
   "source": [
    "fb = Factbase()\n",
    "fb.add_fact_file(\"examples/doc/example2/example2.lp\")"
   ]
  },
  {
   "cell_type": "markdown",
   "id": "5e999271-f8c9-4f84-bdce-9003d6428c11",
   "metadata": {},
   "source": [
    "##### Add additional facts"
   ]
  },
  {
   "cell_type": "code",
   "execution_count": 6,
   "id": "71d88c7f-4d7f-4f2a-9379-cd6d598a6da8",
   "metadata": {},
   "outputs": [],
   "source": [
    "fb.add_fact_string(\"attr(graph_nodes,toms_family,color,red).attr(graph_nodes,bills_family,color,blue).\")"
   ]
  },
  {
   "cell_type": "markdown",
   "id": "540bd8d7-2117-4269-b324-176ccd575f5a",
   "metadata": {},
   "source": [
    "Show all the facts"
   ]
  },
  {
   "cell_type": "code",
   "execution_count": 7,
   "id": "5723e6f6-4485-4130-afbb-49b1fe07cbd5",
   "metadata": {},
   "outputs": [
    {
     "name": "stdout",
     "output_type": "stream",
     "text": [
      "edge((tom,max),toms_family).\n",
      "edge((bill,jen),bills_family).\n",
      "graph(toms_family).\n",
      "graph(bills_family).\n",
      "node(tom,toms_family).\n",
      "node(max,toms_family).\n",
      "node(bill,bills_family).\n",
      "node(jen,bills_family).\n",
      "attr(graph_nodes,bills_family,(color,-1),blue).\n",
      "attr(graph_nodes,toms_family,(color,-1),red).\n",
      "\n"
     ]
    }
   ],
   "source": [
    "print(fb)"
   ]
  },
  {
   "cell_type": "markdown",
   "id": "6eed6e5a-6197-43ab-bcff-49546c6f1551",
   "metadata": {},
   "source": [
    "### Graphviz functionality"
   ]
  },
  {
   "cell_type": "markdown",
   "id": "ff6e97d6-6ea7-491e-b5ad-3fa801578705",
   "metadata": {},
   "source": [
    "#### Compute the graphs"
   ]
  },
  {
   "cell_type": "code",
   "execution_count": 8,
   "id": "2c62687e-0726-4dc9-9fb3-af2981b56a4f",
   "metadata": {},
   "outputs": [],
   "source": [
    "from clingraph.graphviz import compute_graphs"
   ]
  },
  {
   "cell_type": "markdown",
   "id": "33ea93dc-2453-46ae-8fab-23934296235c",
   "metadata": {},
   "source": [
    "Computes the [graphviz objects](https://graphviz.readthedocs.io/en/stable/) by calling `compute_graphs(fb)`."
   ]
  },
  {
   "cell_type": "code",
   "execution_count": 9,
   "id": "e0da678b",
   "metadata": {},
   "outputs": [],
   "source": [
    "graphs = compute_graphs(fb)"
   ]
  },
  {
   "cell_type": "markdown",
   "id": "c5c51f09-8e69-4402-a7dd-baa55f5a975f",
   "metadata": {},
   "source": [
    "Show the cligraph objects"
   ]
  },
  {
   "cell_type": "code",
   "execution_count": 10,
   "id": "f2a93a22-2962-401a-b624-b552bfedcb3b",
   "metadata": {},
   "outputs": [
    {
     "name": "stdout",
     "output_type": "stream",
     "text": [
      "{'toms_family': <graphviz.graphs.Graph object at 0x7fb91df31220>, 'bills_family': <graphviz.graphs.Graph object at 0x7fb91df77c70>}\n"
     ]
    }
   ],
   "source": [
    "print(graphs)"
   ]
  },
  {
   "cell_type": "code",
   "execution_count": 11,
   "id": "016218a6-e4cf-4613-9f2a-54c60173eb4d",
   "metadata": {},
   "outputs": [
    {
     "data": {
      "image/svg+xml": "<?xml version=\"1.0\" encoding=\"UTF-8\" standalone=\"no\"?>\n<!DOCTYPE svg PUBLIC \"-//W3C//DTD SVG 1.1//EN\"\n \"http://www.w3.org/Graphics/SVG/1.1/DTD/svg11.dtd\">\n<!-- Generated by graphviz version 2.47.3 (20210619.1520)\n -->\n<!-- Title: toms_family Pages: 1 -->\n<svg width=\"62pt\" height=\"116pt\"\n viewBox=\"0.00 0.00 62.00 116.00\" xmlns=\"http://www.w3.org/2000/svg\" xmlns:xlink=\"http://www.w3.org/1999/xlink\">\n<g id=\"graph0\" class=\"graph\" transform=\"scale(1 1) rotate(0) translate(4 112)\">\n<title>toms_family</title>\n<polygon fill=\"white\" stroke=\"transparent\" points=\"-4,4 -4,-112 58,-112 58,4 -4,4\"/>\n<!-- tom -->\n<g id=\"node1\" class=\"node\">\n<title>tom</title>\n<ellipse fill=\"none\" stroke=\"red\" cx=\"27\" cy=\"-90\" rx=\"27\" ry=\"18\"/>\n<text text-anchor=\"middle\" x=\"27\" y=\"-86.3\" font-family=\"Times,serif\" font-size=\"14.00\">tom</text>\n</g>\n<!-- max -->\n<g id=\"node2\" class=\"node\">\n<title>max</title>\n<ellipse fill=\"none\" stroke=\"red\" cx=\"27\" cy=\"-18\" rx=\"27\" ry=\"18\"/>\n<text text-anchor=\"middle\" x=\"27\" y=\"-14.3\" font-family=\"Times,serif\" font-size=\"14.00\">max</text>\n</g>\n<!-- tom&#45;&#45;max -->\n<g id=\"edge1\" class=\"edge\">\n<title>tom&#45;&#45;max</title>\n<path fill=\"none\" stroke=\"black\" d=\"M27,-71.7C27,-60.85 27,-46.92 27,-36.1\"/>\n</g>\n</g>\n</svg>\n",
      "text/plain": [
       "<graphviz.graphs.Graph at 0x7fb91df31220>"
      ]
     },
     "execution_count": 11,
     "metadata": {},
     "output_type": "execute_result"
    }
   ],
   "source": [
    "graphs['toms_family']"
   ]
  },
  {
   "cell_type": "code",
   "execution_count": 12,
   "id": "94a96dad-e7b6-4be2-86fc-fca272f28f31",
   "metadata": {},
   "outputs": [
    {
     "data": {
      "image/svg+xml": "<?xml version=\"1.0\" encoding=\"UTF-8\" standalone=\"no\"?>\n<!DOCTYPE svg PUBLIC \"-//W3C//DTD SVG 1.1//EN\"\n \"http://www.w3.org/Graphics/SVG/1.1/DTD/svg11.dtd\">\n<!-- Generated by graphviz version 2.47.3 (20210619.1520)\n -->\n<!-- Title: bills_family Pages: 1 -->\n<svg width=\"62pt\" height=\"116pt\"\n viewBox=\"0.00 0.00 62.00 116.00\" xmlns=\"http://www.w3.org/2000/svg\" xmlns:xlink=\"http://www.w3.org/1999/xlink\">\n<g id=\"graph0\" class=\"graph\" transform=\"scale(1 1) rotate(0) translate(4 112)\">\n<title>bills_family</title>\n<polygon fill=\"white\" stroke=\"transparent\" points=\"-4,4 -4,-112 58,-112 58,4 -4,4\"/>\n<!-- bill -->\n<g id=\"node1\" class=\"node\">\n<title>bill</title>\n<ellipse fill=\"none\" stroke=\"blue\" cx=\"27\" cy=\"-90\" rx=\"27\" ry=\"18\"/>\n<text text-anchor=\"middle\" x=\"27\" y=\"-86.3\" font-family=\"Times,serif\" font-size=\"14.00\">bill</text>\n</g>\n<!-- jen -->\n<g id=\"node2\" class=\"node\">\n<title>jen</title>\n<ellipse fill=\"none\" stroke=\"blue\" cx=\"27\" cy=\"-18\" rx=\"27\" ry=\"18\"/>\n<text text-anchor=\"middle\" x=\"27\" y=\"-14.3\" font-family=\"Times,serif\" font-size=\"14.00\">jen</text>\n</g>\n<!-- bill&#45;&#45;jen -->\n<g id=\"edge1\" class=\"edge\">\n<title>bill&#45;&#45;jen</title>\n<path fill=\"none\" stroke=\"black\" d=\"M27,-71.7C27,-60.85 27,-46.92 27,-36.1\"/>\n</g>\n</g>\n</svg>\n",
      "text/plain": [
       "<graphviz.graphs.Graph at 0x7fb91df77c70>"
      ]
     },
     "execution_count": 12,
     "metadata": {},
     "output_type": "execute_result"
    }
   ],
   "source": [
    "graphs['bills_family']"
   ]
  },
  {
   "cell_type": "markdown",
   "id": "c024b910-05fe-4145-b440-5f4495b2ee82",
   "metadata": {},
   "source": [
    "#### Get the source code\n",
    "\n",
    "This source code uses the [DOT Language](https://graphviz.org/doc/info/lang.html)"
   ]
  },
  {
   "cell_type": "code",
   "execution_count": 13,
   "id": "4ab0b311-1b67-4b98-aa73-9b896d2fd61a",
   "metadata": {},
   "outputs": [],
   "source": [
    "from clingraph.graphviz import dot"
   ]
  },
  {
   "cell_type": "code",
   "execution_count": 14,
   "id": "3f23995f-c921-4ed3-b29d-52831adc433e",
   "metadata": {},
   "outputs": [
    {
     "data": {
      "text/plain": [
       "{'toms_family': 'graph toms_family {\\n\\tnode [color=red]\\n\\ttom\\n\\tmax\\n\\ttom -- max\\n}\\n',\n",
       " 'bills_family': 'graph bills_family {\\n\\tnode [color=blue]\\n\\tbill\\n\\tjen\\n\\tbill -- jen\\n}\\n'}"
      ]
     },
     "execution_count": 14,
     "metadata": {},
     "output_type": "execute_result"
    }
   ],
   "source": [
    "dot_graphs = dot(graphs)\n",
    "dot_graphs"
   ]
  },
  {
   "cell_type": "code",
   "execution_count": 15,
   "id": "8fb8f9b0-2f35-4e05-960c-e6f352f5f942",
   "metadata": {},
   "outputs": [
    {
     "name": "stdout",
     "output_type": "stream",
     "text": [
      "graph toms_family {\n",
      "\tnode [color=red]\n",
      "\ttom\n",
      "\tmax\n",
      "\ttom -- max\n",
      "}\n",
      "\n"
     ]
    }
   ],
   "source": [
    "print(dot_graphs['toms_family'])"
   ]
  },
  {
   "cell_type": "markdown",
   "id": "c8ae1743-88e1-42d5-9184-b9a371b02823",
   "metadata": {},
   "source": [
    "##### Write the dot in files\n",
    "\n",
    "Writes in one file per graph"
   ]
  },
  {
   "cell_type": "code",
   "execution_count": 16,
   "id": "64b9bb7f-9266-47bf-9292-421d4de854b0",
   "metadata": {},
   "outputs": [],
   "source": [
    "from clingraph.utils import write"
   ]
  },
  {
   "cell_type": "code",
   "execution_count": 17,
   "id": "203d02cf-4d73-4176-a5ef-ddde47c4f9d4",
   "metadata": {},
   "outputs": [
    {
     "name": "stdout",
     "output_type": "stream",
     "text": [
      "File saved in out/source_toms_family.dot\n",
      "File saved in out/source_bills_family.dot\n"
     ]
    }
   ],
   "source": [
    "write(dot_graphs,directory=\"out\",format=\"dot\",name_format=\"source_{graph_name}\")"
   ]
  },
  {
   "cell_type": "markdown",
   "id": "3e6e4afe-2896-4a7e-a176-2dc4ba3a79ba",
   "metadata": {},
   "source": [
    "#### Render the graphs"
   ]
  },
  {
   "cell_type": "markdown",
   "id": "d5aa96bd-11e7-478c-8849-39b7d3402a23",
   "metadata": {},
   "source": [
    "We use IPython here only to display the output"
   ]
  },
  {
   "cell_type": "code",
   "execution_count": 18,
   "id": "471046cc-5c42-40c5-bc32-7fce18062fc7",
   "metadata": {},
   "outputs": [],
   "source": [
    "from IPython.display import Image"
   ]
  },
  {
   "cell_type": "code",
   "execution_count": 19,
   "id": "f4c4458e-5aaa-45c0-8352-2d8ac308262d",
   "metadata": {},
   "outputs": [],
   "source": [
    "from clingraph.graphviz import render"
   ]
  },
  {
   "cell_type": "code",
   "execution_count": 20,
   "id": "4a821316-3afe-498f-937e-813cacadad32",
   "metadata": {},
   "outputs": [
    {
     "name": "stdout",
     "output_type": "stream",
     "text": [
      "Image saved in out/toms_family.png\n",
      "Image saved in out/bills_family.png\n"
     ]
    }
   ],
   "source": [
    "render(graphs,format=\"png\")"
   ]
  },
  {
   "cell_type": "code",
   "execution_count": 21,
   "id": "6f4fb83d-4f9d-4f3d-a0c3-5dc90eb41e6c",
   "metadata": {},
   "outputs": [
    {
     "data": {
      "image/png": "[encoded data removed]",
      "text/plain": [
       "<IPython.core.display.Image object>"
      ]
     },
     "execution_count": 21,
     "metadata": {},
     "output_type": "execute_result"
    }
   ],
   "source": [
    "Image(\"out/toms_family.png\")"
   ]
  },
  {
   "cell_type": "code",
   "execution_count": 22,
   "id": "088b4999-48d4-4bc0-99ff-1b9ec47d39db",
   "metadata": {},
   "outputs": [
    {
     "data": {
      "image/png": "[encoded data removed]",
      "text/plain": [
       "<IPython.core.display.Image object>"
      ]
     },
     "execution_count": 22,
     "metadata": {},
     "output_type": "execute_result"
    }
   ],
   "source": [
    "Image(\"out/bills_family.png\")"
   ]
  },
  {
   "cell_type": "markdown",
   "id": "ec8f7348-9e6f-414b-897b-76820f7f5d2e",
   "metadata": {},
   "source": [
    "#### Create an animation in gif"
   ]
  },
  {
   "cell_type": "code",
   "execution_count": 24,
   "id": "ca85e6cd-e879-4924-aa10-d41124d9a4bd",
   "metadata": {},
   "outputs": [],
   "source": [
    "from clingraph.gif import save_gif"
   ]
  },
  {
   "cell_type": "code",
   "execution_count": 25,
   "id": "9fca37d5-3194-479b-a237-37983ea03c9d",
   "metadata": {},
   "outputs": [
    {
     "name": "stdout",
     "output_type": "stream",
     "text": [
      "Image saved in out/images/gif_image_toms_family_0.png\n",
      "Image saved in out/images/gif_image_bills_family_0.png\n",
      "Gif saved in out/movie.gif\n"
     ]
    }
   ],
   "source": [
    "save_gif(graphs)"
   ]
  },
  {
   "cell_type": "code",
   "execution_count": 26,
   "id": "8e4356a6-2028-4479-864c-04b8e960da25",
   "metadata": {},
   "outputs": [
    {
     "data": {
      "image/gif": "[encoded data removed]",
      "text/plain": [
       "<IPython.core.display.Image object>"
      ]
     },
     "execution_count": 26,
     "metadata": {},
     "output_type": "execute_result"
    }
   ],
   "source": [
    "Image(\"out/movie.gif\")"
   ]
  },
  {
   "cell_type": "markdown",
   "id": "403a294f-5d79-45e9-828e-0f4b2fff7fe2",
   "metadata": {},
   "source": [
    "#### Generate latex code"
   ]
  },
  {
   "cell_type": "code",
   "execution_count": 27,
   "id": "e89bd05b-5766-4f32-825f-5c7daa02dbc9",
   "metadata": {},
   "outputs": [],
   "source": [
    "from clingraph.tex import tex"
   ]
  },
  {
   "cell_type": "code",
   "execution_count": 28,
   "id": "22a74242-eb1e-477e-a281-084a8b9171a7",
   "metadata": {},
   "outputs": [
    {
     "data": {
      "text/plain": [
       "{'toms_family': \"\\\\documentclass{article}\\n\\\\usepackage[x11names, svgnames, rgb]{xcolor}\\n\\\\usepackage[utf8]{inputenc}\\n\\\\usepackage{tikz}\\n\\\\usetikzlibrary{snakes,arrows,shapes}\\n\\\\usepackage{amsmath}\\n%\\n%\\n\\n%\\n\\n%\\n\\n\\\\begin{document}\\n\\\\pagestyle{empty}\\n%\\n%\\n%\\n\\n\\\\enlargethispage{100cm}\\n% Start of code\\n% \\\\begin{tikzpicture}[anchor=mid,>=latex',line join=bevel,]\\n\\\\begin{tikzpicture}[>=latex',line join=bevel,]\\n  \\\\pgfsetlinewidth{1bp}\\n%%\\n\\\\pgfsetcolor{black}\\n  % Edge: tom -- max\\n  \\\\draw [] (27.0bp,71.697bp) .. controls (27.0bp,60.846bp) and (27.0bp,46.917bp)  .. (27.0bp,36.104bp);\\n  % Node: tom\\n\\\\begin{scope}\\n  \\\\definecolor{strokecol}{rgb}{1.0,0.0,0.0};\\n  \\\\pgfsetstrokecolor{strokecol}\\n  \\\\draw (27.0bp,90.0bp) ellipse (27.0bp and 18.0bp);\\n  \\\\definecolor{strokecol}{rgb}{0.0,0.0,0.0};\\n  \\\\pgfsetstrokecolor{strokecol}\\n  \\\\draw (27.0bp,90.0bp) node {tom};\\n\\\\end{scope}\\n  % Node: max\\n\\\\begin{scope}\\n  \\\\definecolor{strokecol}{rgb}{1.0,0.0,0.0};\\n  \\\\pgfsetstrokecolor{strokecol}\\n  \\\\draw (27.0bp,18.0bp) ellipse (27.0bp and 18.0bp);\\n  \\\\definecolor{strokecol}{rgb}{0.0,0.0,0.0};\\n  \\\\pgfsetstrokecolor{strokecol}\\n  \\\\draw (27.0bp,18.0bp) node {max};\\n\\\\end{scope}\\n%\\n\\\\end{tikzpicture}\\n% End of code\\n\\n%\\n\\\\end{document}\\n%\\n\\n\\n\",\n",
       " 'bills_family': \"\\\\documentclass{article}\\n\\\\usepackage[x11names, svgnames, rgb]{xcolor}\\n\\\\usepackage[utf8]{inputenc}\\n\\\\usepackage{tikz}\\n\\\\usetikzlibrary{snakes,arrows,shapes}\\n\\\\usepackage{amsmath}\\n%\\n%\\n\\n%\\n\\n%\\n\\n\\\\begin{document}\\n\\\\pagestyle{empty}\\n%\\n%\\n%\\n\\n\\\\enlargethispage{100cm}\\n% Start of code\\n% \\\\begin{tikzpicture}[anchor=mid,>=latex',line join=bevel,]\\n\\\\begin{tikzpicture}[>=latex',line join=bevel,]\\n  \\\\pgfsetlinewidth{1bp}\\n%%\\n\\\\pgfsetcolor{black}\\n  % Edge: bill -- jen\\n  \\\\draw [] (27.0bp,71.697bp) .. controls (27.0bp,60.846bp) and (27.0bp,46.917bp)  .. (27.0bp,36.104bp);\\n  % Node: bill\\n\\\\begin{scope}\\n  \\\\definecolor{strokecol}{rgb}{0.0,0.0,1.0};\\n  \\\\pgfsetstrokecolor{strokecol}\\n  \\\\draw (27.0bp,90.0bp) ellipse (27.0bp and 18.0bp);\\n  \\\\definecolor{strokecol}{rgb}{0.0,0.0,0.0};\\n  \\\\pgfsetstrokecolor{strokecol}\\n  \\\\draw (27.0bp,90.0bp) node {bill};\\n\\\\end{scope}\\n  % Node: jen\\n\\\\begin{scope}\\n  \\\\definecolor{strokecol}{rgb}{0.0,0.0,1.0};\\n  \\\\pgfsetstrokecolor{strokecol}\\n  \\\\draw (27.0bp,18.0bp) ellipse (27.0bp and 18.0bp);\\n  \\\\definecolor{strokecol}{rgb}{0.0,0.0,0.0};\\n  \\\\pgfsetstrokecolor{strokecol}\\n  \\\\draw (27.0bp,18.0bp) node {jen};\\n\\\\end{scope}\\n%\\n\\\\end{tikzpicture}\\n% End of code\\n\\n%\\n\\\\end{document}\\n%\\n\\n\\n\"}"
      ]
     },
     "execution_count": 28,
     "metadata": {},
     "output_type": "execute_result"
    }
   ],
   "source": [
    "tex_graphs=tex(graphs)\n",
    "tex_graphs"
   ]
  },
  {
   "cell_type": "markdown",
   "id": "56e87745-79a8-4964-b0f3-322a1df5cb00",
   "metadata": {},
   "source": [
    "### Create a clingraph from each model retuned in the clingos solve\n",
    "\n",
    "This is achived my passing a function that gathers all Factbases in a list to the `on_model` callback argument for `solve`.\n",
    "\n",
    "In this case our program has two stable models. One with `node(a)` and the other one with `node(b)`"
   ]
  },
  {
   "cell_type": "code",
   "execution_count": 29,
   "id": "0104243e-1e3f-4a96-95ad-e02275d9268a",
   "metadata": {},
   "outputs": [
    {
     "data": {
      "text/plain": [
       "SolveResult(1)"
      ]
     },
     "execution_count": 29,
     "metadata": {},
     "output_type": "execute_result"
    }
   ],
   "source": [
    "from clingo import Control\n",
    "ctl = Control([\"-n2\"])\n",
    "fbs = []\n",
    "ctl = Control([\"-n2\"])\n",
    "ctl.add(\"base\", [], \"1{node(a);node(b)}1.\")\n",
    "ctl.ground([(\"base\", [])])\n",
    "ctl.solve(on_model=lambda m: fbs.append(Factbase.from_model(m)))"
   ]
  },
  {
   "cell_type": "markdown",
   "id": "a2918134-5544-4da2-99ea-224b35f86ac9",
   "metadata": {},
   "source": [
    "Now we have a list of Factbase objects that can be passed to any of the above functions"
   ]
  },
  {
   "cell_type": "code",
   "execution_count": 30,
   "id": "bd50df68-fac9-4be8-b338-9fd1b6b6b0a0",
   "metadata": {},
   "outputs": [
    {
     "name": "stdout",
     "output_type": "stream",
     "text": [
      "[<clingraph.orm.Factbase object at 0x7fb91e64c1f0>, <clingraph.orm.Factbase object at 0x7fb91e64cee0>]\n"
     ]
    }
   ],
   "source": [
    "print(fbs)"
   ]
  },
  {
   "cell_type": "code",
   "execution_count": 31,
   "id": "a219a6af-a9f3-4760-8dbd-8da535aa7da0",
   "metadata": {},
   "outputs": [
    {
     "data": {
      "text/plain": [
       "[{'default': <graphviz.graphs.Graph at 0x7fb91e4387f0>},\n",
       " {'default': <graphviz.graphs.Graph at 0x7fb91e8b9940>}]"
      ]
     },
     "execution_count": 31,
     "metadata": {},
     "output_type": "execute_result"
    }
   ],
   "source": [
    "graphs = compute_graphs(fbs)\n",
    "graphs"
   ]
  },
  {
   "cell_type": "code",
   "execution_count": 32,
   "id": "d63e7123-b5d8-4f0a-92b4-66185a535780",
   "metadata": {},
   "outputs": [
    {
     "name": "stdout",
     "output_type": "stream",
     "text": [
      "Image saved in out/0/multi-default.png\n",
      "Image saved in out/1/multi-default.png\n"
     ]
    }
   ],
   "source": [
    "render(graphs,name_format=\"{model_number}/multi-{graph_name}\",format='png')"
   ]
  },
  {
   "cell_type": "code",
   "execution_count": 33,
   "id": "9a03a717-55f1-4da0-b93f-e79b0aa7100d",
   "metadata": {},
   "outputs": [
    {
     "data": {
      "image/png": "[encoded data removed]",
      "text/plain": [
       "<IPython.core.display.Image object>"
      ]
     },
     "execution_count": 33,
     "metadata": {},
     "output_type": "execute_result"
    }
   ],
   "source": [
    "Image('out/0/multi-default.png')"
   ]
  },
  {
   "cell_type": "code",
   "execution_count": 34,
   "id": "1d595165-ec74-40d9-b3ee-55e6331a41fa",
   "metadata": {},
   "outputs": [
    {
     "data": {
      "image/png": "[encoded data removed]",
      "text/plain": [
       "<IPython.core.display.Image object>"
      ]
     },
     "execution_count": 34,
     "metadata": {},
     "output_type": "execute_result"
    }
   ],
   "source": [
    "Image('out/1/multi-default.png')"
   ]
  }
 ],
 "metadata": {
  "kernelspec": {
   "display_name": "Python 3 (ipykernel)",
   "language": "python",
   "name": "python3"
  },
  "language_info": {
   "codemirror_mode": {
    "name": "ipython",
    "version": 3
   },
   "file_extension": ".py",
   "mimetype": "text/x-python",
   "name": "python",
   "nbconvert_exporter": "python",
   "pygments_lexer": "ipython3",
   "version": "3.9.7"
  }
 },
 "nbformat": 4,
 "nbformat_minor": 5
}
