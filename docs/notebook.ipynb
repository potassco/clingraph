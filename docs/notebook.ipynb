{
 "cells": [
  {
   "cell_type": "markdown",
   "id": "1519d1aa-c9e7-4320-927a-9a207eb4c9f2",
   "metadata": {},
   "source": [
    "# Clingraph quick start with Jupyter\n",
    "\n",
    "We present in this notebook the basic functionalities of clingraph. First we show the python package functionality, followed by some examples of the command line features.\n",
    "\n",
    "We suggest that the user first gets familiarized with the accepted [syntax](https://clingraph.readthedocs.io/en/latest/clingraph/syntax.html).\n",
    "\n",
    "For the details on the package options please go to the [api documentation](https://clingraph.readthedocs.io/en/latest/clingraph/api.html#clingraph).\n",
    "\n",
    "For advanced examples on how to use the command line see our [documentation](https://clingraph.readthedocs.io/en/latest/clingraph/console.html#) and [examples folder](https://github.com/potassco/clingraph/tree/master/examples). Each subfolder contains a README that explains how to run the example. "
   ]
  },
  {
   "cell_type": "markdown",
   "id": "bd6288cc",
   "metadata": {},
   "source": [
    "## Install\n",
    "The installation is **ONLY** necessary for online usage in [binder](https://mybinder.org)."
   ]
  },
  {
   "cell_type": "markdown",
   "id": "433e621d",
   "metadata": {},
   "source": [
    "`!cd .. ; pip install . > /dev/null ; cd docs`"
   ]
  },
  {
   "cell_type": "markdown",
   "id": "561230eb",
   "metadata": {},
   "source": [
    "## Basic usage"
   ]
  },
  {
   "cell_type": "code",
   "execution_count": 1,
   "id": "42cb8691-2b1f-4856-97a8-cb7d582acebf",
   "metadata": {},
   "outputs": [],
   "source": [
    "import clingraph\n",
    "from clingraph import Clingraph"
   ]
  },
  {
   "cell_type": "markdown",
   "id": "a081a67b-8f16-4a32-a5c5-88c011d5721b",
   "metadata": {
    "tags": []
   },
   "source": [
    "### Create a clingraph from string\n",
    "\n",
    "Loads a string of facts and computes the [graphviz objects](https://graphviz.readthedocs.io/en/stable/) by calling `compute_graphs()`."
   ]
  },
  {
   "cell_type": "code",
   "execution_count": 4,
   "id": "5a1491aa-e46f-4f45-8ce9-9d8816211ae2",
   "metadata": {},
   "outputs": [],
   "source": [
    "g = Clingraph()\n",
    "g.add_fact_string('''\n",
    "node(oscar). \n",
    "node(andres). \n",
    "edge((oscar,andres)). \n",
    "attr(node,andres,label,\"Andres\").\n",
    "attr(node,oscar,label,\"Oscar\").\n",
    "attr(edge,(oscar,andres),label,\"friends\").''')\n",
    "g.compute_graphs()"
   ]
  },
  {
   "cell_type": "markdown",
   "id": "c5c51f09-8e69-4402-a7dd-baa55f5a975f",
   "metadata": {},
   "source": [
    "##### Show the cligraph object"
   ]
  },
  {
   "cell_type": "code",
   "execution_count": 5,
   "id": "e0da678b",
   "metadata": {},
   "outputs": [
    {
     "data": {
      "text/plain": [
       "'default'"
      ]
     },
     "metadata": {},
     "output_type": "display_data"
    },
    {
     "data": {
      "image/png": "[encoded data removed]",
      "text/plain": [
       "<IPython.core.display.Image object>"
      ]
     },
     "metadata": {},
     "output_type": "display_data"
    },
    {
     "data": {
      "text/plain": [
       "<clingraph.clingraph.Clingraph at 0x1128069e0>"
      ]
     },
     "execution_count": 5,
     "metadata": {},
     "output_type": "execute_result"
    }
   ],
   "source": [
    "g"
   ]
  },
  {
   "cell_type": "markdown",
   "id": "c024b910-05fe-4145-b440-5f4495b2ee82",
   "metadata": {},
   "source": [
    "##### Print a clingraph source code\n",
    "\n",
    "This source code uses the [DOT Language](https://graphviz.org/doc/info/lang.html)"
   ]
  },
  {
   "cell_type": "code",
   "execution_count": 6,
   "id": "3f23995f-c921-4ed3-b29d-52831adc433e",
   "metadata": {},
   "outputs": [
    {
     "name": "stdout",
     "output_type": "stream",
     "text": [
      "//----------default----------\n",
      "graph default {\n",
      "\tandres [label=Andres]\n",
      "\toscar [label=Oscar]\n",
      "\toscar -- andres [label=friends]\n",
      "}\n",
      "\n"
     ]
    }
   ],
   "source": [
    "print(g.source())"
   ]
  },
  {
   "cell_type": "markdown",
   "id": "868992a7",
   "metadata": {},
   "source": [
    "##### Get the graphviz object\n",
    "\n",
    "Obtains the graphviz object for the default graph"
   ]
  },
  {
   "cell_type": "code",
   "execution_count": 7,
   "id": "c3d71a39",
   "metadata": {},
   "outputs": [
    {
     "data": {
      "image/svg+xml": "<?xml version=\"1.0\" encoding=\"UTF-8\" standalone=\"no\"?>\n<!DOCTYPE svg PUBLIC \"-//W3C//DTD SVG 1.1//EN\"\n \"http://www.w3.org/Graphics/SVG/1.1/DTD/svg11.dtd\">\n<!-- Generated by graphviz version 2.50.0 (0)\n -->\n<!-- Title: default Pages: 1 -->\n<svg width=\"82pt\" height=\"131pt\"\n viewBox=\"0.00 0.00 82.40 131.00\" xmlns=\"http://www.w3.org/2000/svg\" xmlns:xlink=\"http://www.w3.org/1999/xlink\">\n<g id=\"graph0\" class=\"graph\" transform=\"scale(1 1) rotate(0) translate(4 127)\">\n<title>default</title>\n<polygon fill=\"white\" stroke=\"transparent\" points=\"-4,4 -4,-127 78.4,-127 78.4,4 -4,4\"/>\n<!-- andres -->\n<g id=\"node1\" class=\"node\">\n<title>andres</title>\n<ellipse fill=\"none\" stroke=\"black\" cx=\"36.4\" cy=\"-18\" rx=\"36.29\" ry=\"18\"/>\n<text text-anchor=\"middle\" x=\"36.4\" y=\"-14.3\" font-family=\"Times,serif\" font-size=\"14.00\">Andres</text>\n</g>\n<!-- oscar -->\n<g id=\"node2\" class=\"node\">\n<title>oscar</title>\n<ellipse fill=\"none\" stroke=\"black\" cx=\"36.4\" cy=\"-105\" rx=\"31.4\" ry=\"18\"/>\n<text text-anchor=\"middle\" x=\"36.4\" y=\"-101.3\" font-family=\"Times,serif\" font-size=\"14.00\">Oscar</text>\n</g>\n<!-- oscar&#45;&#45;andres -->\n<g id=\"edge1\" class=\"edge\">\n<title>oscar&#45;&#45;andres</title>\n<path fill=\"none\" stroke=\"black\" d=\"M36.4,-86.8C36.4,-72.05 36.4,-50.92 36.4,-36.18\"/>\n<text text-anchor=\"middle\" x=\"55.4\" y=\"-57.8\" font-family=\"Times,serif\" font-size=\"14.00\">friends</text>\n</g>\n</g>\n</svg>\n",
      "text/plain": [
       "<graphviz.graphs.Graph at 0x11276f9a0>"
      ]
     },
     "execution_count": 7,
     "metadata": {},
     "output_type": "execute_result"
    }
   ],
   "source": [
    "g.get_graphviz()"
   ]
  },
  {
   "cell_type": "markdown",
   "id": "e82060a2-72c2-4bb2-b633-3f439a7315c8",
   "metadata": {},
   "source": [
    "### Create a clingraph from file"
   ]
  },
  {
   "cell_type": "markdown",
   "id": "7f53fb3c-e687-4a70-a303-57f77f2b5527",
   "metadata": {},
   "source": [
    "The file contents representing two different graphs."
   ]
  },
  {
   "cell_type": "code",
   "execution_count": 8,
   "id": "694ca63a-40f3-4623-b6a7-e07ddae2491e",
   "metadata": {},
   "outputs": [
    {
     "name": "stdout",
     "output_type": "stream",
     "text": [
      "    graph(toms_family).\n",
      "    graph(bills_family).\n",
      "\n",
      "    node(tom, toms_family).\n",
      "    node(max, toms_family).\n",
      "    edge((tom, max), toms_family).\n",
      "\n",
      "    node(bill, bills_family).\n",
      "    node(jen, bills_family).\n",
      "    edge((bill, jen), bills_family).\n"
     ]
    }
   ],
   "source": [
    "!cat ../examples/basic/example2/example_2.lp"
   ]
  },
  {
   "cell_type": "markdown",
   "id": "55c05b59-2edf-4edb-852c-bfbb899b7475",
   "metadata": {},
   "source": [
    "##### Load the facts in the file"
   ]
  },
  {
   "cell_type": "code",
   "execution_count": 9,
   "id": "1c647294-5ddb-4708-80dc-8b664acb245d",
   "metadata": {},
   "outputs": [],
   "source": [
    "g = Clingraph()\n",
    "g.add_fact_file(\"../examples/basic/example2/example_2.lp\")"
   ]
  },
  {
   "cell_type": "markdown",
   "id": "5e999271-f8c9-4f84-bdce-9003d6428c11",
   "metadata": {},
   "source": [
    "##### Add additional facts from a string and compute the graphs"
   ]
  },
  {
   "cell_type": "code",
   "execution_count": 10,
   "id": "71d88c7f-4d7f-4f2a-9379-cd6d598a6da8",
   "metadata": {},
   "outputs": [],
   "source": [
    "g.add_fact_string(\"attr(graph_nodes,toms_family,color,red).attr(graph_nodes,bills_family,color,blue).\")\n",
    "g.compute_graphs()"
   ]
  },
  {
   "cell_type": "markdown",
   "id": "d5993fed-ff43-4a35-acfc-068f55701a60",
   "metadata": {},
   "source": [
    "##### Show the clingraph which contains two different graphs"
   ]
  },
  {
   "cell_type": "code",
   "execution_count": 11,
   "id": "d0969e5a-e82c-4baa-bbab-80b8c8f9b088",
   "metadata": {},
   "outputs": [
    {
     "data": {
      "text/plain": [
       "'toms_family'"
      ]
     },
     "metadata": {},
     "output_type": "display_data"
    },
    {
     "data": {
      "image/png": "[encoded data removed]",
      "text/plain": [
       "<IPython.core.display.Image object>"
      ]
     },
     "metadata": {},
     "output_type": "display_data"
    },
    {
     "data": {
      "text/plain": [
       "'bills_family'"
      ]
     },
     "metadata": {},
     "output_type": "display_data"
    },
    {
     "data": {
      "image/png": "[encoded data removed]",
      "text/plain": [
       "<IPython.core.display.Image object>"
      ]
     },
     "metadata": {},
     "output_type": "display_data"
    },
    {
     "data": {
      "text/plain": [
       "<clingraph.clingraph.Clingraph at 0x112841c00>"
      ]
     },
     "execution_count": 11,
     "metadata": {},
     "output_type": "execute_result"
    }
   ],
   "source": [
    "g"
   ]
  },
  {
   "cell_type": "markdown",
   "id": "d976b793-c0a2-483e-89b3-93e15bba628f",
   "metadata": {},
   "source": [
    "##### Get the graphviz object for a specific graph"
   ]
  },
  {
   "cell_type": "code",
   "execution_count": 12,
   "id": "745a7068-39fb-4791-9e7d-aacc326655da",
   "metadata": {},
   "outputs": [
    {
     "data": {
      "image/svg+xml": "<?xml version=\"1.0\" encoding=\"UTF-8\" standalone=\"no\"?>\n<!DOCTYPE svg PUBLIC \"-//W3C//DTD SVG 1.1//EN\"\n \"http://www.w3.org/Graphics/SVG/1.1/DTD/svg11.dtd\">\n<!-- Generated by graphviz version 2.50.0 (0)\n -->\n<!-- Title: toms_family Pages: 1 -->\n<svg width=\"62pt\" height=\"116pt\"\n viewBox=\"0.00 0.00 62.00 116.00\" xmlns=\"http://www.w3.org/2000/svg\" xmlns:xlink=\"http://www.w3.org/1999/xlink\">\n<g id=\"graph0\" class=\"graph\" transform=\"scale(1 1) rotate(0) translate(4 112)\">\n<title>toms_family</title>\n<polygon fill=\"white\" stroke=\"transparent\" points=\"-4,4 -4,-112 58,-112 58,4 -4,4\"/>\n<!-- tom -->\n<g id=\"node1\" class=\"node\">\n<title>tom</title>\n<ellipse fill=\"none\" stroke=\"red\" cx=\"27\" cy=\"-90\" rx=\"27\" ry=\"18\"/>\n<text text-anchor=\"middle\" x=\"27\" y=\"-86.3\" font-family=\"Times,serif\" font-size=\"14.00\">tom</text>\n</g>\n<!-- max -->\n<g id=\"node2\" class=\"node\">\n<title>max</title>\n<ellipse fill=\"none\" stroke=\"red\" cx=\"27\" cy=\"-18\" rx=\"27\" ry=\"18\"/>\n<text text-anchor=\"middle\" x=\"27\" y=\"-14.3\" font-family=\"Times,serif\" font-size=\"14.00\">max</text>\n</g>\n<!-- tom&#45;&#45;max -->\n<g id=\"edge1\" class=\"edge\">\n<title>tom&#45;&#45;max</title>\n<path fill=\"none\" stroke=\"black\" d=\"M27,-71.7C27,-60.85 27,-46.92 27,-36.1\"/>\n</g>\n</g>\n</svg>\n",
      "text/plain": [
       "<graphviz.graphs.Graph at 0x10a83f100>"
      ]
     },
     "execution_count": 12,
     "metadata": {},
     "output_type": "execute_result"
    }
   ],
   "source": [
    "g.get_graphviz('toms_family')"
   ]
  },
  {
   "cell_type": "markdown",
   "id": "bbe370e3-1c45-4ed8-b952-f600b03d7d9c",
   "metadata": {},
   "source": [
    "##### Show source of one graph"
   ]
  },
  {
   "cell_type": "code",
   "execution_count": 13,
   "id": "6222bb4d-ec17-41cc-ba0b-3cef283e4e4c",
   "metadata": {},
   "outputs": [
    {
     "name": "stdout",
     "output_type": "stream",
     "text": [
      "graph toms_family {\n",
      "\tnode [color=red]\n",
      "\ttom\n",
      "\tmax\n",
      "\ttom -- max\n",
      "}\n",
      "\n"
     ]
    }
   ],
   "source": [
    "print(g.get_graphviz('toms_family').source)"
   ]
  },
  {
   "cell_type": "markdown",
   "id": "c8ae1743-88e1-42d5-9184-b9a371b02823",
   "metadata": {},
   "source": [
    "##### Save all graphs "
   ]
  },
  {
   "cell_type": "code",
   "execution_count": 14,
   "id": "203d02cf-4d73-4176-a5ef-ddde47c4f9d4",
   "metadata": {},
   "outputs": [],
   "source": [
    "g.save(directory=\"out\",format=\"pdf\")"
   ]
  },
  {
   "cell_type": "markdown",
   "id": "3e8d399e-2d78-408d-a7b0-eb5907b175ce",
   "metadata": {},
   "source": [
    "## Clingo integration\n",
    "\n",
    "We show how to integrate clingraph with the [clingo API](https://www.cs.uni-potsdam.de/~kaminski/pyclingo-cffi/clingo/index.html).\n",
    "\n",
    "For this we use a `MultiModelClingraph` that can handle one Clingraph for each stable model."
   ]
  },
  {
   "cell_type": "markdown",
   "id": "56e87745-79a8-4964-b0f3-322a1df5cb00",
   "metadata": {},
   "source": [
    "### Create a clingraph from each model retuned in the clingos solve\n",
    "\n",
    "This is achived my passing the `g.add_model` method in the `on_model` callback argument for `solve`.\n",
    "\n",
    "In this case our program has two stable models. One with `node(a)` and the other one with `node(b)`"
   ]
  },
  {
   "cell_type": "code",
   "execution_count": 15,
   "id": "0104243e-1e3f-4a96-95ad-e02275d9268a",
   "metadata": {},
   "outputs": [
    {
     "name": "stdout",
     "output_type": "stream",
     "text": [
      "\n",
      "//=========================\n",
      "//\tModel: 1 Costs: [] \n",
      "//=========================\n",
      "\n",
      "// Graph hasn't been computed yet\n",
      "\n",
      "//=========================\n",
      "//\tModel: 2 Costs: [] \n",
      "//=========================\n",
      "\n",
      "// Graph hasn't been computed yet\n",
      "\n"
     ]
    }
   ],
   "source": [
    "from clingraph import MultiModelClingraph\n",
    "from clingo import Control\n",
    "ctl = Control([\"-n2\"])\n",
    "g = MultiModelClingraph()\n",
    "ctl.add(\"base\", [], \"1{node(a);node(b)}1.\")\n",
    "ctl.ground([(\"base\", [])])\n",
    "ctl.solve(on_model=g.add_model)\n",
    "print(g.source())"
   ]
  },
  {
   "cell_type": "code",
   "execution_count": 16,
   "id": "a219a6af-a9f3-4760-8dbd-8da535aa7da0",
   "metadata": {},
   "outputs": [],
   "source": [
    "g.compute_graphs()"
   ]
  },
  {
   "cell_type": "code",
   "execution_count": 17,
   "id": "d63e7123-b5d8-4f0a-92b4-66185a535780",
   "metadata": {},
   "outputs": [
    {
     "name": "stdout",
     "output_type": "stream",
     "text": [
      "\n",
      "//=========================\n",
      "//\tModel: 1 Costs: [] \n",
      "//=========================\n",
      "\n",
      "//----------default----------\n",
      "graph default {\n",
      "\ta\n",
      "}\n",
      "\n",
      "//=========================\n",
      "//\tModel: 2 Costs: [] \n",
      "//=========================\n",
      "\n",
      "//----------default----------\n",
      "graph default {\n",
      "\tb\n",
      "}\n",
      "\n"
     ]
    }
   ],
   "source": [
    "print(g.source())"
   ]
  },
  {
   "cell_type": "markdown",
   "id": "677cd17b-1534-49ba-a8e6-8ea53007eb12",
   "metadata": {},
   "source": [
    "##### Print the clingraphs obtained for each model"
   ]
  },
  {
   "cell_type": "code",
   "execution_count": 18,
   "id": "2b1cb286-3c12-4137-896e-bdb4d4c26ab2",
   "metadata": {},
   "outputs": [
    {
     "data": {
      "text/plain": [
       "{1: {'clingraph': <clingraph.clingraph.Clingraph at 0x1128670a0>,\n",
       "  'name': 'model-0001',\n",
       "  'costs': []},\n",
       " 2: {'clingraph': <clingraph.clingraph.Clingraph at 0x112875de0>,\n",
       "  'name': 'model-0002',\n",
       "  'costs': []}}"
      ]
     },
     "execution_count": 18,
     "metadata": {},
     "output_type": "execute_result"
    }
   ],
   "source": [
    "g.clingraphs"
   ]
  },
  {
   "cell_type": "markdown",
   "id": "13e17edb-a88f-4724-93cb-8d2ac2529396",
   "metadata": {},
   "source": [
    "##### Obtain the clingraph for the first model"
   ]
  },
  {
   "cell_type": "code",
   "execution_count": 19,
   "id": "228903d4-c15b-457a-aa80-8c7ca40ad128",
   "metadata": {},
   "outputs": [
    {
     "data": {
      "text/plain": [
       "'default'"
      ]
     },
     "metadata": {},
     "output_type": "display_data"
    },
    {
     "data": {
      "image/png": "[encoded data removed]",
      "text/plain": [
       "<IPython.core.display.Image object>"
      ]
     },
     "metadata": {},
     "output_type": "display_data"
    },
    {
     "data": {
      "text/plain": [
       "<clingraph.clingraph.Clingraph at 0x1128670a0>"
      ]
     },
     "execution_count": 19,
     "metadata": {},
     "output_type": "execute_result"
    }
   ],
   "source": [
    "g.get_clingraph(1)"
   ]
  },
  {
   "cell_type": "markdown",
   "id": "ad6cfdcc-39b5-4590-bc00-9bbddfab19d1",
   "metadata": {},
   "source": [
    "##### Obtain the clingraph for the second model"
   ]
  },
  {
   "cell_type": "code",
   "execution_count": 20,
   "id": "d7a27212-1373-4309-933c-ea459fed5030",
   "metadata": {},
   "outputs": [
    {
     "data": {
      "text/plain": [
       "'default'"
      ]
     },
     "metadata": {},
     "output_type": "display_data"
    },
    {
     "data": {
      "image/png": "[encoded data removed]",
      "text/plain": [
       "<IPython.core.display.Image object>"
      ]
     },
     "metadata": {},
     "output_type": "display_data"
    },
    {
     "data": {
      "text/plain": [
       "<clingraph.clingraph.Clingraph at 0x112875de0>"
      ]
     },
     "execution_count": 20,
     "metadata": {},
     "output_type": "execute_result"
    }
   ],
   "source": [
    "g.get_clingraph(2)"
   ]
  },
  {
   "cell_type": "markdown",
   "id": "f0d046a0-0473-457c-a42a-9630e688890f",
   "metadata": {},
   "source": [
    "##### Show the source code of the first model"
   ]
  },
  {
   "cell_type": "code",
   "execution_count": 22,
   "id": "afb6164c-1598-46a2-8368-90c802a0f1a0",
   "metadata": {},
   "outputs": [
    {
     "name": "stdout",
     "output_type": "stream",
     "text": [
      "//----------default----------\n",
      "graph default {\n",
      "\ta\n",
      "}\n",
      "\n"
     ]
    }
   ],
   "source": [
    "print(g.get_clingraph(1).source())"
   ]
  },
  {
   "cell_type": "markdown",
   "id": "bf13149b",
   "metadata": {},
   "source": [
    "## Command line\n",
    "\n",
    "Clingraph can be called from the command line with `clingraph`. \n",
    "\n",
    "##### Show example contents"
   ]
  },
  {
   "cell_type": "code",
   "execution_count": 33,
   "id": "bbf709f1",
   "metadata": {},
   "outputs": [
    {
     "name": "stdout",
     "output_type": "stream",
     "text": [
      "graph(house).\n",
      "graph(bathroom, house).\n",
      "graph(bedroom, house).\n",
      "\n",
      "node(toilet,bathroom).\n",
      "node(bed,bedroom).\n",
      "node(desk,bedroom).\n",
      "\n",
      "edge((toilet,bed),house).\n",
      "\n",
      "\n",
      "attr(graph, house, label, \"Tom's House\").\n",
      "attr(graph, bathroom, style, dotted).\n",
      "attr(graph, bathroom, label, \"Bathroom\").\n",
      "attr(graph, bedroom, style, dotted).\n",
      "attr(graph, bedroom, label, \"Bedroom\").\n",
      "\n",
      "attr(graph_nodes, house, style, filled).\n",
      "attr(graph_nodes, house, color, cyan).\n",
      "\n",
      "attr(node, toilet, shape, circle).\n",
      "attr(node, bed, shape, square).\n",
      "attr(node, desk, shape, square).\n",
      "\n",
      "attr(edge, (toilet,bed), color, red).\n"
     ]
    }
   ],
   "source": [
    "!cat ../examples/basic/example3/example_3.lp"
   ]
  },
  {
   "cell_type": "markdown",
   "id": "a6bfde03",
   "metadata": {},
   "source": [
    "##### Run clingraph to compute the graphs and output the source"
   ]
  },
  {
   "cell_type": "code",
   "execution_count": 37,
   "id": "d6bab051",
   "metadata": {},
   "outputs": [
    {
     "name": "stdout",
     "output_type": "stream",
     "text": [
      "//----------house----------\n",
      "graph house {\n",
      "\tgraph [label=\"Tom's House\"]\n",
      "\tnode [color=cyan style=filled]\n",
      "\ttoilet -- bed [color=red]\n",
      "\tsubgraph cluster_bathroom {\n",
      "\t\tgraph [label=Bathroom style=dotted]\n",
      "\t\ttoilet [shape=circle]\n",
      "\t}\n",
      "\tsubgraph cluster_bedroom {\n",
      "\t\tgraph [label=Bedroom style=dotted]\n",
      "\t\tbed [shape=square]\n",
      "\t\tdesk [shape=square]\n",
      "\t}\n",
      "}\n",
      "\n"
     ]
    }
   ],
   "source": [
    "!clingraph ../examples/basic/example3/example_3.lp --render --format=png"
   ]
  },
  {
   "cell_type": "markdown",
   "id": "dba7d481",
   "metadata": {},
   "source": [
    "#### Show the contents of the saved file `out/house.png`"
   ]
  },
  {
   "cell_type": "markdown",
   "id": "3e399bc7",
   "metadata": {},
   "source": [
    "Run this markdown cell to show the saved image:\n",
    "\n",
    "![image](out/house.png)"
   ]
  },
  {
   "cell_type": "markdown",
   "id": "0b56af12",
   "metadata": {},
   "source": [
    "### Clingo integration via command line\n",
    "\n",
    "##### Show the example using clingo code"
   ]
  },
  {
   "cell_type": "code",
   "execution_count": 42,
   "id": "47979593",
   "metadata": {},
   "outputs": [
    {
     "name": "stdout",
     "output_type": "stream",
     "text": [
      "1{node(a);node(b)}1.\n",
      "\n",
      "attr(node,a,color,blue):-node(a).\n",
      "attr(node,b,color,red):-node(b).\n"
     ]
    }
   ],
   "source": [
    "!cat ../examples/basic/example5/example_5.lp"
   ]
  },
  {
   "cell_type": "markdown",
   "id": "4bc4d65b",
   "metadata": {},
   "source": [
    "##### Run clingo and pipe the output to clingraph\n",
    "\n",
    "Any logic program containing rules needs to be solved beforehand, then the facts are passed to clingraph. The special integration for clingo takes as input the json output from clingo obtained with option `--outf=2`."
   ]
  },
  {
   "cell_type": "code",
   "execution_count": 43,
   "id": "5ae141ec",
   "metadata": {},
   "outputs": [
    {
     "name": "stdout",
     "output_type": "stream",
     "text": [
      "//----------default----------\n",
      "graph default {\n",
      "\ta [color=blue]\n",
      "}\n",
      "\n"
     ]
    }
   ],
   "source": [
    "!clingo ../examples/basic/example5/example_5.lp -n 0 --outf=2 | clingraph --json --select-model=1 --render --format=png"
   ]
  },
  {
   "cell_type": "markdown",
   "id": "1aed983f",
   "metadata": {},
   "source": [
    "Run this markdown cell to show the saved image:\n",
    "\n",
    "![image_2](out/default.png)"
   ]
  },
  {
   "cell_type": "markdown",
   "id": "b5ca51ef",
   "metadata": {},
   "source": []
  }
 ],
 "metadata": {
  "kernelspec": {
   "display_name": "Python 3 (ipykernel)",
   "language": "python",
   "name": "python3"
  },
  "language_info": {
   "codemirror_mode": {
    "name": "ipython",
    "version": 3
   },
   "file_extension": ".py",
   "mimetype": "text/x-python",
   "name": "python",
   "nbconvert_exporter": "python",
   "pygments_lexer": "ipython3",
   "version": "3.10.1"
  }
 },
 "nbformat": 4,
 "nbformat_minor": 5
}
