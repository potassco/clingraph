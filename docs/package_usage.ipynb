{
 "cells": [
  {
   "cell_type": "markdown",
   "id": "1519d1aa-c9e7-4320-927a-9a207eb4c9f2",
   "metadata": {},
   "source": [
    "# Quick start with Jupyter"
   ]
  },
  {
   "cell_type": "markdown",
   "id": "c566e3f7-e7b2-4220-9f49-89520f4d0905",
   "metadata": {},
   "source": [
    "We suggest that the user first gets familiarized with the accepted [syntax](Syntax)"
   ]
  },
  {
   "cell_type": "code",
   "execution_count": 1,
   "id": "42cb8691-2b1f-4856-97a8-cb7d582acebf",
   "metadata": {},
   "outputs": [],
   "source": [
    "from clingraph import Clingraph"
   ]
  },
  {
   "cell_type": "markdown",
   "id": "561230eb",
   "metadata": {},
   "source": [
    "## Basic usage"
   ]
  },
  {
   "cell_type": "markdown",
   "id": "a081a67b-8f16-4a32-a5c5-88c011d5721b",
   "metadata": {
    "tags": []
   },
   "source": [
    "### Create a clingraph from string"
   ]
  },
  {
   "cell_type": "code",
   "execution_count": 2,
   "id": "5a1491aa-e46f-4f45-8ce9-9d8816211ae2",
   "metadata": {},
   "outputs": [],
   "source": [
    "g = Clingraph()\n",
    "g.add_fact_string('''\n",
    "node(oscar). \n",
    "node(andres). \n",
    "edge((oscar,andres)). \n",
    "attr(node,andres,label,\"Andres\").\n",
    "attr(node,oscar,label,\"Oscar\").\n",
    "attr(edge,(oscar,andres),label,\"friends\").''')\n",
    "g.compute_graphs()"
   ]
  },
  {
   "cell_type": "code",
   "execution_count": 3,
   "id": "e0da678b",
   "metadata": {},
   "outputs": [
    {
     "data": {
      "text/plain": [
       "'default'"
      ]
     },
     "metadata": {},
     "output_type": "display_data"
    },
    {
     "data": {
      "image/png": "[encoded data removed]",
      "text/plain": [
       "<IPython.core.display.Image object>"
      ]
     },
     "metadata": {},
     "output_type": "display_data"
    },
    {
     "data": {
      "text/plain": [
       "<clingraph.clingraph.Clingraph at 0x11239c3a0>"
      ]
     },
     "execution_count": 3,
     "metadata": {},
     "output_type": "execute_result"
    }
   ],
   "source": [
    "g"
   ]
  },
  {
   "cell_type": "markdown",
   "id": "c024b910-05fe-4145-b440-5f4495b2ee82",
   "metadata": {},
   "source": [
    "##### Print a clingraph source code"
   ]
  },
  {
   "cell_type": "code",
   "execution_count": 4,
   "id": "3f23995f-c921-4ed3-b29d-52831adc433e",
   "metadata": {},
   "outputs": [
    {
     "name": "stdout",
     "output_type": "stream",
     "text": [
      "//----------default----------\n",
      "graph default {\n",
      "\toscar [label=Oscar]\n",
      "\tandres [label=Andres]\n",
      "\toscar -- andres [label=friends]\n",
      "}\n",
      "\n"
     ]
    }
   ],
   "source": [
    "print(g.source())"
   ]
  },
  {
   "cell_type": "markdown",
   "id": "868992a7",
   "metadata": {},
   "source": [
    "##### Get the graphviz object"
   ]
  },
  {
   "cell_type": "code",
   "execution_count": 5,
   "id": "c3d71a39",
   "metadata": {},
   "outputs": [
    {
     "data": {
      "image/svg+xml": [
       "<?xml version=\"1.0\" encoding=\"UTF-8\" standalone=\"no\"?>\n",
       "<!DOCTYPE svg PUBLIC \"-//W3C//DTD SVG 1.1//EN\"\n",
       " \"http://www.w3.org/Graphics/SVG/1.1/DTD/svg11.dtd\">\n",
       "<!-- Generated by graphviz version 2.47.3 (20210619.1520)\n",
       " -->\n",
       "<!-- Title: default Pages: 1 -->\n",
       "<svg width=\"84pt\" height=\"131pt\"\n",
       " viewBox=\"0.00 0.00 84.05 131.00\" xmlns=\"http://www.w3.org/2000/svg\" xmlns:xlink=\"http://www.w3.org/1999/xlink\">\n",
       "<g id=\"graph0\" class=\"graph\" transform=\"scale(1 1) rotate(0) translate(4 127)\">\n",
       "<title>default</title>\n",
       "<polygon fill=\"white\" stroke=\"transparent\" points=\"-4,4 -4,-127 80.05,-127 80.05,4 -4,4\"/>\n",
       "<!-- oscar -->\n",
       "<g id=\"node1\" class=\"node\">\n",
       "<title>oscar</title>\n",
       "<ellipse fill=\"none\" stroke=\"black\" cx=\"37.05\" cy=\"-105\" rx=\"31.7\" ry=\"18\"/>\n",
       "<text text-anchor=\"middle\" x=\"37.05\" y=\"-101.3\" font-family=\"Times,serif\" font-size=\"14.00\">Oscar</text>\n",
       "</g>\n",
       "<!-- andres -->\n",
       "<g id=\"node2\" class=\"node\">\n",
       "<title>andres</title>\n",
       "<ellipse fill=\"none\" stroke=\"black\" cx=\"37.05\" cy=\"-18\" rx=\"37.09\" ry=\"18\"/>\n",
       "<text text-anchor=\"middle\" x=\"37.05\" y=\"-14.3\" font-family=\"Times,serif\" font-size=\"14.00\">Andres</text>\n",
       "</g>\n",
       "<!-- oscar&#45;&#45;andres -->\n",
       "<g id=\"edge1\" class=\"edge\">\n",
       "<title>oscar&#45;&#45;andres</title>\n",
       "<path fill=\"none\" stroke=\"black\" d=\"M37.05,-86.8C37.05,-72.05 37.05,-50.92 37.05,-36.18\"/>\n",
       "<text text-anchor=\"middle\" x=\"56.55\" y=\"-57.8\" font-family=\"Times,serif\" font-size=\"14.00\">friends</text>\n",
       "</g>\n",
       "</g>\n",
       "</svg>\n"
      ],
      "text/plain": [
       "<graphviz.graphs.Graph at 0x1123b3f10>"
      ]
     },
     "execution_count": 5,
     "metadata": {},
     "output_type": "execute_result"
    }
   ],
   "source": [
    "g.get_graphviz()"
   ]
  },
  {
   "cell_type": "code",
   "execution_count": 6,
   "id": "d6338002-b111-4259-825c-07d370970588",
   "metadata": {},
   "outputs": [
    {
     "data": {
      "image/svg+xml": [
       "<?xml version=\"1.0\" encoding=\"UTF-8\" standalone=\"no\"?>\n",
       "<!DOCTYPE svg PUBLIC \"-//W3C//DTD SVG 1.1//EN\"\n",
       " \"http://www.w3.org/Graphics/SVG/1.1/DTD/svg11.dtd\">\n",
       "<!-- Generated by graphviz version 2.47.3 (20210619.1520)\n",
       " -->\n",
       "<!-- Title: default Pages: 1 -->\n",
       "<svg width=\"84pt\" height=\"131pt\"\n",
       " viewBox=\"0.00 0.00 84.05 131.00\" xmlns=\"http://www.w3.org/2000/svg\" xmlns:xlink=\"http://www.w3.org/1999/xlink\">\n",
       "<g id=\"graph0\" class=\"graph\" transform=\"scale(1 1) rotate(0) translate(4 127)\">\n",
       "<title>default</title>\n",
       "<polygon fill=\"white\" stroke=\"transparent\" points=\"-4,4 -4,-127 80.05,-127 80.05,4 -4,4\"/>\n",
       "<!-- oscar -->\n",
       "<g id=\"node1\" class=\"node\">\n",
       "<title>oscar</title>\n",
       "<ellipse fill=\"none\" stroke=\"black\" cx=\"37.05\" cy=\"-105\" rx=\"31.7\" ry=\"18\"/>\n",
       "<text text-anchor=\"middle\" x=\"37.05\" y=\"-101.3\" font-family=\"Times,serif\" font-size=\"14.00\">Oscar</text>\n",
       "</g>\n",
       "<!-- andres -->\n",
       "<g id=\"node2\" class=\"node\">\n",
       "<title>andres</title>\n",
       "<ellipse fill=\"none\" stroke=\"black\" cx=\"37.05\" cy=\"-18\" rx=\"37.09\" ry=\"18\"/>\n",
       "<text text-anchor=\"middle\" x=\"37.05\" y=\"-14.3\" font-family=\"Times,serif\" font-size=\"14.00\">Andres</text>\n",
       "</g>\n",
       "<!-- oscar&#45;&#45;andres -->\n",
       "<g id=\"edge1\" class=\"edge\">\n",
       "<title>oscar&#45;&#45;andres</title>\n",
       "<path fill=\"none\" stroke=\"black\" d=\"M37.05,-86.8C37.05,-72.05 37.05,-50.92 37.05,-36.18\"/>\n",
       "<text text-anchor=\"middle\" x=\"56.55\" y=\"-57.8\" font-family=\"Times,serif\" font-size=\"14.00\">friends</text>\n",
       "</g>\n",
       "</g>\n",
       "</svg>\n"
      ],
      "text/plain": [
       "<graphviz.graphs.Graph at 0x1123b3f10>"
      ]
     },
     "execution_count": 6,
     "metadata": {},
     "output_type": "execute_result"
    }
   ],
   "source": [
    "g.get_graphviz('default')"
   ]
  },
  {
   "cell_type": "markdown",
   "id": "e82060a2-72c2-4bb2-b633-3f439a7315c8",
   "metadata": {},
   "source": [
    "### Create a clingraph from file"
   ]
  },
  {
   "cell_type": "markdown",
   "id": "7f53fb3c-e687-4a70-a303-57f77f2b5527",
   "metadata": {},
   "source": [
    "The file contents representing two different graphs"
   ]
  },
  {
   "cell_type": "code",
   "execution_count": 8,
   "id": "694ca63a-40f3-4623-b6a7-e07ddae2491e",
   "metadata": {},
   "outputs": [
    {
     "name": "stdout",
     "output_type": "stream",
     "text": [
      "    graph(toms_family).\n",
      "    graph(bills_family).\n",
      "\n",
      "    node(tom, toms_family).\n",
      "    node(max, toms_family).\n",
      "    edge((tom, max), toms_family).\n",
      "\n",
      "    node(bill, bills_family).\n",
      "    node(jen, bills_family).\n",
      "    edge((bill, jen), bills_family).\n"
     ]
    }
   ],
   "source": [
    "%%bash\n",
    "cat ../examples/basic/example2/example_2.lp"
   ]
  },
  {
   "cell_type": "markdown",
   "id": "55c05b59-2edf-4edb-852c-bfbb899b7475",
   "metadata": {},
   "source": [
    "##### Load the facts in the file"
   ]
  },
  {
   "cell_type": "code",
   "execution_count": 12,
   "id": "1c647294-5ddb-4708-80dc-8b664acb245d",
   "metadata": {},
   "outputs": [],
   "source": [
    "g = Clingraph()\n",
    "g.add_fact_file(\"../examples/basic/example2/example_2.lp\")"
   ]
  },
  {
   "cell_type": "markdown",
   "id": "5e999271-f8c9-4f84-bdce-9003d6428c11",
   "metadata": {},
   "source": [
    "##### Add additional facts from a string and show the graph"
   ]
  },
  {
   "cell_type": "code",
   "execution_count": 13,
   "id": "71d88c7f-4d7f-4f2a-9379-cd6d598a6da8",
   "metadata": {},
   "outputs": [
    {
     "data": {
      "text/plain": [
       "'toms_family'"
      ]
     },
     "metadata": {},
     "output_type": "display_data"
    },
    {
     "data": {
      "image/png": "[encoded data removed]",
      "text/plain": [
       "<IPython.core.display.Image object>"
      ]
     },
     "metadata": {},
     "output_type": "display_data"
    },
    {
     "data": {
      "text/plain": [
       "'bills_family'"
      ]
     },
     "metadata": {},
     "output_type": "display_data"
    },
    {
     "data": {
      "image/png": "[encoded data removed]",
      "text/plain": [
       "<IPython.core.display.Image object>"
      ]
     },
     "metadata": {},
     "output_type": "display_data"
    },
    {
     "data": {
      "text/plain": [
       "<clingraph.clingraph.Clingraph at 0x11243e8b0>"
      ]
     },
     "execution_count": 13,
     "metadata": {},
     "output_type": "execute_result"
    }
   ],
   "source": [
    "g.add_fact_string(\"attr(graph_nodes,toms_family,color,red).attr(graph_nodes,bills_family,color,blue).\")\n",
    "g.compute_graphs()\n",
    "g"
   ]
  },
  {
   "cell_type": "code",
   "execution_count": 7,
   "id": "745a7068-39fb-4791-9e7d-aacc326655da",
   "metadata": {},
   "outputs": [
    {
     "data": {
      "image/svg+xml": [
       "<?xml version=\"1.0\" encoding=\"UTF-8\" standalone=\"no\"?>\n",
       "<!DOCTYPE svg PUBLIC \"-//W3C//DTD SVG 1.1//EN\"\n",
       " \"http://www.w3.org/Graphics/SVG/1.1/DTD/svg11.dtd\">\n",
       "<!-- Generated by graphviz version 2.47.3 (20210619.1520)\n",
       " -->\n",
       "<!-- Title: toms_family Pages: 1 -->\n",
       "<svg width=\"62pt\" height=\"116pt\"\n",
       " viewBox=\"0.00 0.00 62.00 116.00\" xmlns=\"http://www.w3.org/2000/svg\" xmlns:xlink=\"http://www.w3.org/1999/xlink\">\n",
       "<g id=\"graph0\" class=\"graph\" transform=\"scale(1 1) rotate(0) translate(4 112)\">\n",
       "<title>toms_family</title>\n",
       "<polygon fill=\"white\" stroke=\"transparent\" points=\"-4,4 -4,-112 58,-112 58,4 -4,4\"/>\n",
       "<!-- tom -->\n",
       "<g id=\"node1\" class=\"node\">\n",
       "<title>tom</title>\n",
       "<ellipse fill=\"none\" stroke=\"black\" cx=\"27\" cy=\"-90\" rx=\"27\" ry=\"18\"/>\n",
       "<text text-anchor=\"middle\" x=\"27\" y=\"-86.3\" font-family=\"Times,serif\" font-size=\"14.00\">tom</text>\n",
       "</g>\n",
       "<!-- max -->\n",
       "<g id=\"node2\" class=\"node\">\n",
       "<title>max</title>\n",
       "<ellipse fill=\"none\" stroke=\"black\" cx=\"27\" cy=\"-18\" rx=\"27\" ry=\"18\"/>\n",
       "<text text-anchor=\"middle\" x=\"27\" y=\"-14.3\" font-family=\"Times,serif\" font-size=\"14.00\">max</text>\n",
       "</g>\n",
       "<!-- tom&#45;&#45;max -->\n",
       "<g id=\"edge1\" class=\"edge\">\n",
       "<title>tom&#45;&#45;max</title>\n",
       "<path fill=\"none\" stroke=\"black\" d=\"M27,-71.7C27,-60.85 27,-46.92 27,-36.1\"/>\n",
       "</g>\n",
       "</g>\n",
       "</svg>\n"
      ],
      "text/plain": [
       "<graphviz.graphs.Graph at 0x11470d430>"
      ]
     },
     "execution_count": 7,
     "metadata": {},
     "output_type": "execute_result"
    }
   ],
   "source": [
    "g.graphs['toms_family']"
   ]
  },
  {
   "cell_type": "markdown",
   "id": "bbe370e3-1c45-4ed8-b952-f600b03d7d9c",
   "metadata": {},
   "source": [
    "##### Show source of one graph"
   ]
  },
  {
   "cell_type": "code",
   "execution_count": 8,
   "id": "6222bb4d-ec17-41cc-ba0b-3cef283e4e4c",
   "metadata": {},
   "outputs": [
    {
     "name": "stdout",
     "output_type": "stream",
     "text": [
      "graph toms_family {\n",
      "\ttom\n",
      "\tmax\n",
      "\ttom -- max\n",
      "}\n",
      "\n"
     ]
    }
   ],
   "source": [
    "print(g.graphs['toms_family'].source)"
   ]
  },
  {
   "cell_type": "markdown",
   "id": "c8ae1743-88e1-42d5-9184-b9a371b02823",
   "metadata": {},
   "source": [
    "##### Save all graphs "
   ]
  },
  {
   "cell_type": "code",
   "execution_count": 9,
   "id": "203d02cf-4d73-4176-a5ef-ddde47c4f9d4",
   "metadata": {},
   "outputs": [],
   "source": [
    "g.save(directory=\"out\",format=\"pdf\")"
   ]
  },
  {
   "cell_type": "markdown",
   "id": "3e8d399e-2d78-408d-a7b0-eb5907b175ce",
   "metadata": {},
   "source": [
    "## Clingo integration"
   ]
  },
  {
   "cell_type": "markdown",
   "id": "56e87745-79a8-4964-b0f3-322a1df5cb00",
   "metadata": {},
   "source": [
    "### Create a clingraph from each model in the clingos solve"
   ]
  },
  {
   "cell_type": "code",
   "execution_count": 4,
   "id": "0104243e-1e3f-4a96-95ad-e02275d9268a",
   "metadata": {},
   "outputs": [
    {
     "name": "stdout",
     "output_type": "stream",
     "text": [
      "\n",
      "//=========================\n",
      "//\tModel: 1 Costs: [] \n",
      "//=========================\n",
      "\n",
      "// Graph hasn't been computed yet\n",
      "\n",
      "//=========================\n",
      "//\tModel: 2 Costs: [] \n",
      "//=========================\n",
      "\n",
      "// Graph hasn't been computed yet\n",
      "\n"
     ]
    }
   ],
   "source": [
    "from clingraph import MultiModelClingraph\n",
    "from clingo import Control\n",
    "ctl = Control([\"-n2\"])\n",
    "g = MultiModelClingraph()\n",
    "ctl.add(\"base\", [], \"1{node(a);node(b)}1.\")\n",
    "ctl.ground([(\"base\", [])])\n",
    "ctl.solve(on_model=g.add_model)\n",
    "print(g.source())"
   ]
  },
  {
   "cell_type": "code",
   "execution_count": 5,
   "id": "a219a6af-a9f3-4760-8dbd-8da535aa7da0",
   "metadata": {},
   "outputs": [],
   "source": [
    "g.compute_graphs()"
   ]
  },
  {
   "cell_type": "code",
   "execution_count": 6,
   "id": "d63e7123-b5d8-4f0a-92b4-66185a535780",
   "metadata": {},
   "outputs": [
    {
     "name": "stdout",
     "output_type": "stream",
     "text": [
      "\n",
      "//=========================\n",
      "//\tModel: 1 Costs: [] \n",
      "//=========================\n",
      "\n",
      "//----------default----------\n",
      "graph default {\n",
      "\ta\n",
      "}\n",
      "\n",
      "//=========================\n",
      "//\tModel: 2 Costs: [] \n",
      "//=========================\n",
      "\n",
      "//----------default----------\n",
      "graph default {\n",
      "\tb\n",
      "}\n",
      "\n"
     ]
    }
   ],
   "source": [
    "print(g.source())"
   ]
  },
  {
   "cell_type": "markdown",
   "id": "677cd17b-1534-49ba-a8e6-8ea53007eb12",
   "metadata": {},
   "source": [
    "##### Print the clingraphs obtained for each model"
   ]
  },
  {
   "cell_type": "code",
   "execution_count": 8,
   "id": "2b1cb286-3c12-4137-896e-bdb4d4c26ab2",
   "metadata": {},
   "outputs": [
    {
     "data": {
      "text/plain": [
       "{1: {'clingraph': <clingraph.clingraph.Clingraph at 0x106553c40>,\n",
       "  'name': 'model-0001',\n",
       "  'costs': []},\n",
       " 2: {'clingraph': <clingraph.clingraph.Clingraph at 0x104b7baf0>,\n",
       "  'name': 'model-0002',\n",
       "  'costs': []}}"
      ]
     },
     "execution_count": 8,
     "metadata": {},
     "output_type": "execute_result"
    }
   ],
   "source": [
    "g.clingraphs"
   ]
  },
  {
   "cell_type": "markdown",
   "id": "13e17edb-a88f-4724-93cb-8d2ac2529396",
   "metadata": {},
   "source": [
    "##### Obtain the clingraph for the first model"
   ]
  },
  {
   "cell_type": "code",
   "execution_count": 12,
   "id": "228903d4-c15b-457a-aa80-8c7ca40ad128",
   "metadata": {},
   "outputs": [
    {
     "data": {
      "text/plain": [
       "'default'"
      ]
     },
     "metadata": {},
     "output_type": "display_data"
    },
    {
     "data": {
      "image/png": "[encoded data removed]",
      "text/plain": [
       "<IPython.core.display.Image object>"
      ]
     },
     "metadata": {},
     "output_type": "display_data"
    },
    {
     "data": {
      "text/plain": [
       "<clingraph.clingraph.Clingraph at 0x106553c40>"
      ]
     },
     "execution_count": 12,
     "metadata": {},
     "output_type": "execute_result"
    }
   ],
   "source": [
    "g.get_clingraph(1)"
   ]
  },
  {
   "cell_type": "markdown",
   "id": "ad6cfdcc-39b5-4590-bc00-9bbddfab19d1",
   "metadata": {},
   "source": [
    "##### Obtain the climgraph for the second model"
   ]
  },
  {
   "cell_type": "code",
   "execution_count": 13,
   "id": "d7a27212-1373-4309-933c-ea459fed5030",
   "metadata": {},
   "outputs": [
    {
     "data": {
      "text/plain": [
       "'default'"
      ]
     },
     "metadata": {},
     "output_type": "display_data"
    },
    {
     "data": {
      "image/png": "[encoded data removed]",
      "text/plain": [
       "<IPython.core.display.Image object>"
      ]
     },
     "metadata": {},
     "output_type": "display_data"
    },
    {
     "data": {
      "text/plain": [
       "<clingraph.clingraph.Clingraph at 0x104b7baf0>"
      ]
     },
     "execution_count": 13,
     "metadata": {},
     "output_type": "execute_result"
    }
   ],
   "source": [
    "g.get_clingraph(2)"
   ]
  },
  {
   "cell_type": "markdown",
   "id": "f0d046a0-0473-457c-a42a-9630e688890f",
   "metadata": {},
   "source": [
    "##### Show the source code of the first model"
   ]
  },
  {
   "cell_type": "code",
   "execution_count": 15,
   "id": "0ddd8090-e4b3-48f7-858a-108ce1cfe1e6",
   "metadata": {},
   "outputs": [
    {
     "name": "stdout",
     "output_type": "stream",
     "text": [
      "\n",
      "//=========================\n",
      "//\tModel: 1 Costs: [] \n",
      "//=========================\n",
      "\n",
      "//----------default----------\n",
      "graph default {\n",
      "\ta\n",
      "}\n",
      "\n"
     ]
    }
   ],
   "source": [
    "print(g.source(selected_models=['1']))"
   ]
  },
  {
   "cell_type": "code",
   "execution_count": 17,
   "id": "afb6164c-1598-46a2-8368-90c802a0f1a0",
   "metadata": {},
   "outputs": [
    {
     "name": "stdout",
     "output_type": "stream",
     "text": [
      "//----------default----------\n",
      "graph default {\n",
      "\tb\n",
      "}\n",
      "\n"
     ]
    }
   ],
   "source": [
    "print(g.get_clingraph(2).source())"
   ]
  }
 ],
 "metadata": {
  "kernelspec": {
   "display_name": "Python 3 (ipykernel)",
   "language": "python",
   "name": "python3"
  },
  "language_info": {
   "codemirror_mode": {
    "name": "ipython",
    "version": 3
   },
   "file_extension": ".py",
   "mimetype": "text/x-python",
   "name": "python",
   "nbconvert_exporter": "python",
   "pygments_lexer": "ipython3",
   "version": "3.9.7"
  }
 },
 "nbformat": 4,
 "nbformat_minor": 5
}
