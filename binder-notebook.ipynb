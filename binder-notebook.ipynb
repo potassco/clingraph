{
 "cells": [
  {
   "cell_type": "markdown",
   "id": "fd402717-58b2-4212-a54b-3b3c1b92f1d0",
   "metadata": {},
   "source": [
    "## Clingraph demo"
   ]
  },
  {
   "cell_type": "code",
   "execution_count": null,
   "id": "4933f986-42ba-459b-be2f-ad8dc50aa4e0",
   "metadata": {},
   "outputs": [],
   "source": [
    "!git clone https://github.com/potassco/clingraph.git"
   ]
  },
  {
   "cell_type": "code",
   "execution_count": null,
   "id": "de578628-9f78-4b9d-a0bc-45fd5ea28015",
   "metadata": {},
   "outputs": [],
   "source": [
    "!cd clingraph"
   ]
  },
  {
   "cell_type": "code",
   "execution_count": null,
   "id": "a1d994f5-e13c-4647-b3eb-3fb6d105b30e",
   "metadata": {},
   "outputs": [],
   "source": [
    "!conda env create -f environment.yml"
   ]
  },
  {
   "cell_type": "code",
   "execution_count": null,
   "id": "3c86ead5-f513-4a7c-b517-060e9ab0ff9d",
   "metadata": {},
   "outputs": [],
   "source": [
    "!conda activate clingraph"
   ]
  },
  {
   "cell_type": "code",
   "execution_count": null,
   "id": "478a955a-f526-4063-9dc2-9938a342ae77",
   "metadata": {},
   "outputs": [],
   "source": [
    "!pip install ."
   ]
  }
 ],
 "metadata": {
  "kernelspec": {
   "display_name": "Python 3 (ipykernel)",
   "language": "python",
   "name": "python3"
  },
  "language_info": {
   "codemirror_mode": {
    "name": "ipython",
    "version": 3
   },
   "file_extension": ".py",
   "mimetype": "text/x-python",
   "name": "python",
   "nbconvert_exporter": "python",
   "pygments_lexer": "ipython3",
   "version": "3.10.1"
  }
 },
 "nbformat": 4,
 "nbformat_minor": 5
}
